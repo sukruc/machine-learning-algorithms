{
 "cells": [
  {
   "cell_type": "code",
   "execution_count": 1,
   "metadata": {},
   "outputs": [],
   "source": [
    "import sys\n",
    "import pandas as pd\n",
    "import matplotlib.pyplot as plt\n",
    "from ipywidgets import interact"
   ]
  },
  {
   "cell_type": "code",
   "execution_count": 2,
   "metadata": {},
   "outputs": [],
   "source": [
    "from agents import GecikmeliOrtam\n",
    "del sys.modules['agents']\n",
    "from agents import GecikmeliOrtam, GecikmeliUCB, GecikmeliThompson"
   ]
  },
  {
   "cell_type": "code",
   "execution_count": 3,
   "metadata": {},
   "outputs": [],
   "source": [
    "ortam = GecikmeliOrtam('Ads_CTR_Optimisation.csv', geri_besleme_olasiligi=0.5)"
   ]
  },
  {
   "cell_type": "code",
   "execution_count": 4,
   "metadata": {},
   "outputs": [
    {
     "data": {
      "text/plain": [
       "{}"
      ]
     },
     "execution_count": 4,
     "metadata": {},
     "output_type": "execute_result"
    }
   ],
   "source": [
    "ortam.goruntule(3)"
   ]
  },
  {
   "cell_type": "code",
   "execution_count": 6,
   "metadata": {},
   "outputs": [
    {
     "data": {
      "text/plain": [
       "Ni    9952\n",
       "Ri    2386\n",
       "dtype: int32"
      ]
     },
     "metadata": {},
     "output_type": "display_data"
    },
    {
     "name": "stdout",
     "output_type": "stream",
     "text": [
      "Gecikmeli UCB Ajan icin toplam odul: 2386\n"
     ]
    }
   ],
   "source": [
    "ortam = GecikmeliOrtam('Ads_CTR_Optimisation.csv', geri_besleme_olasiligi=0.01)\n",
    "\n",
    "ajan = GecikmeliUCB(ortam.n_ads)\n",
    "ru = []\n",
    "\n",
    "for _ in range(10000):\n",
    "    ajan.ogren(ortam)\n",
    "    ru.append(ajan.toplam_odul())\n",
    "\n",
    "display(pd.DataFrame(ajan.tablo).T.sum()[['Ni', 'Ri']].astype(int))\n",
    "\n",
    "print(\"Gecikmeli UCB Ajan icin toplam odul:\", ajan.toplam_odul())"
   ]
  },
  {
   "cell_type": "code",
   "execution_count": 7,
   "metadata": {},
   "outputs": [
    {
     "data": {
      "text/plain": [
       "Ni    9970\n",
       "Ri    2577\n",
       "dtype: int32"
      ]
     },
     "metadata": {},
     "output_type": "display_data"
    },
    {
     "name": "stdout",
     "output_type": "stream",
     "text": [
      "Gecikmeli Thompson Ajan icin toplam odul: 2577\n"
     ]
    }
   ],
   "source": [
    "ortam = GecikmeliOrtam('Ads_CTR_Optimisation.csv', geri_besleme_olasiligi=0.01)\n",
    "\n",
    "ajan = GecikmeliThompson(ortam.n_ads)\n",
    "rt = []\n",
    "\n",
    "for _ in range(10000):\n",
    "    ajan.ogren(ortam)\n",
    "    rt.append(ajan.toplam_odul())\n",
    "\n",
    "display(pd.DataFrame(ajan.tablo).T.sum()[['Ni', 'Ri']].astype(int))\n",
    "\n",
    "print(\"Gecikmeli Thompson Ajan icin toplam odul:\", ajan.toplam_odul())"
   ]
  },
  {
   "cell_type": "code",
   "execution_count": 8,
   "metadata": {},
   "outputs": [
    {
     "data": {
      "image/png": "[encoded data removed]",
      "text/plain": [
       "<Figure size 1152x360 with 1 Axes>"
      ]
     },
     "metadata": {
      "needs_background": "light"
     },
     "output_type": "display_data"
    }
   ],
   "source": [
    "plt.figure(figsize=(16, 5))\n",
    "plt.plot(ru, label='UCB')\n",
    "plt.plot(rt, label='Thompson')\n",
    "_ = plt.legend()"
   ]
  },
  {
   "cell_type": "code",
   "execution_count": 9,
   "metadata": {},
   "outputs": [
    {
     "data": {
      "application/vnd.jupyter.widget-view+json": {
       "model_id": "ccc7383477f645af83b41d51265968be",
       "version_major": 2,
       "version_minor": 0
      },
      "text/plain": [
       "interactive(children=(FloatSlider(value=1.5, description='delay', max=3.0, step=0.5), Output()), _dom_classes=…"
      ]
     },
     "metadata": {},
     "output_type": "display_data"
    }
   ],
   "source": [
    "@interact\n",
    "def rews(delay=(0., 3., 0.5)):\n",
    "    delay = 10**(-delay)\n",
    "    ortam = GecikmeliOrtam('Ads_CTR_Optimisation.csv', geri_besleme_olasiligi=delay)\n",
    "\n",
    "    ajan = GecikmeliUCB(ortam.n_ads)\n",
    "    ru = []\n",
    "\n",
    "    for _ in range(10000):\n",
    "        ajan.ogren(ortam)\n",
    "        ru.append(ajan.toplam_odul())\n",
    "\n",
    "#     display(pd.DataFrame(ajan.tablo).T.sum()[['Ni', 'Ri']].astype(int))\n",
    "\n",
    "#     print(\"Gecikmeli UCB Ajan icin toplam odul:\", ajan.toplam_odul())\n",
    "\n",
    "    ortam = GecikmeliOrtam('Ads_CTR_Optimisation.csv', geri_besleme_olasiligi=delay)\n",
    "\n",
    "    ajan = GecikmeliThompson(ortam.n_ads)\n",
    "    rt = []\n",
    "\n",
    "    for _ in range(10000):\n",
    "        ajan.ogren(ortam)\n",
    "        rt.append(ajan.toplam_odul())\n",
    "\n",
    "#     display(pd.DataFrame(ajan.tablo).T.sum()[['Ni', 'Ri']].astype(int))\n",
    "\n",
    "#     print(\"Gecikmeli Thompson Ajan icin toplam odul:\", ajan.toplam_odul())\n",
    "\n",
    "    plt.figure(figsize=(16, 5))\n",
    "    plt.plot(ru, label='UCB')\n",
    "    plt.plot(rt, label='Thompson')\n",
    "    _ = plt.legend()"
   ]
  },
  {
   "cell_type": "code",
   "execution_count": null,
   "metadata": {},
   "outputs": [],
   "source": []
  }
 ],
 "metadata": {
  "kernelspec": {
   "display_name": "Python 3.7.4 Base",
   "language": "python",
   "name": "python3"
  },
  "language_info": {
   "codemirror_mode": {
    "name": "ipython",
    "version": 3
   },
   "file_extension": ".py",
   "mimetype": "text/x-python",
   "name": "python",
   "nbconvert_exporter": "python",
   "pygments_lexer": "ipython3",
   "version": "3.7.4"
  }
 },
 "nbformat": 4,
 "nbformat_minor": 4
}
