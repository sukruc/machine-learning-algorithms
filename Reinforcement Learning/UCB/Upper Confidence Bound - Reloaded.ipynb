{
 "cells": [
  {
   "cell_type": "code",
   "execution_count": 1,
   "metadata": {},
   "outputs": [],
   "source": [
    "import pandas as pd\n",
    "import numpy as np\n",
    "import matplotlib.pyplot as plt"
   ]
  },
  {
   "cell_type": "code",
   "execution_count": 2,
   "metadata": {},
   "outputs": [],
   "source": [
    "rewards = pd.read_csv('Ads_CTR_Optimisation.csv')"
   ]
  },
  {
   "cell_type": "code",
   "execution_count": 3,
   "metadata": {},
   "outputs": [
    {
     "data": {
      "text/html": [
       "<div>\n",
       "<style scoped>\n",
       "    .dataframe tbody tr th:only-of-type {\n",
       "        vertical-align: middle;\n",
       "    }\n",
       "\n",
       "    .dataframe tbody tr th {\n",
       "        vertical-align: top;\n",
       "    }\n",
       "\n",
       "    .dataframe thead th {\n",
       "        text-align: right;\n",
       "    }\n",
       "</style>\n",
       "<table border=\"1\" class=\"dataframe\">\n",
       "  <thead>\n",
       "    <tr style=\"text-align: right;\">\n",
       "      <th></th>\n",
       "      <th>Ad 1</th>\n",
       "      <th>Ad 2</th>\n",
       "      <th>Ad 3</th>\n",
       "      <th>Ad 4</th>\n",
       "      <th>Ad 5</th>\n",
       "      <th>Ad 6</th>\n",
       "      <th>Ad 7</th>\n",
       "      <th>Ad 8</th>\n",
       "      <th>Ad 9</th>\n",
       "      <th>Ad 10</th>\n",
       "    </tr>\n",
       "  </thead>\n",
       "  <tbody>\n",
       "    <tr>\n",
       "      <td>0</td>\n",
       "      <td>1</td>\n",
       "      <td>0</td>\n",
       "      <td>0</td>\n",
       "      <td>0</td>\n",
       "      <td>1</td>\n",
       "      <td>0</td>\n",
       "      <td>0</td>\n",
       "      <td>0</td>\n",
       "      <td>1</td>\n",
       "      <td>0</td>\n",
       "    </tr>\n",
       "    <tr>\n",
       "      <td>1</td>\n",
       "      <td>0</td>\n",
       "      <td>0</td>\n",
       "      <td>0</td>\n",
       "      <td>0</td>\n",
       "      <td>0</td>\n",
       "      <td>0</td>\n",
       "      <td>0</td>\n",
       "      <td>0</td>\n",
       "      <td>1</td>\n",
       "      <td>0</td>\n",
       "    </tr>\n",
       "    <tr>\n",
       "      <td>2</td>\n",
       "      <td>0</td>\n",
       "      <td>0</td>\n",
       "      <td>0</td>\n",
       "      <td>0</td>\n",
       "      <td>0</td>\n",
       "      <td>0</td>\n",
       "      <td>0</td>\n",
       "      <td>0</td>\n",
       "      <td>0</td>\n",
       "      <td>0</td>\n",
       "    </tr>\n",
       "    <tr>\n",
       "      <td>3</td>\n",
       "      <td>0</td>\n",
       "      <td>1</td>\n",
       "      <td>0</td>\n",
       "      <td>0</td>\n",
       "      <td>0</td>\n",
       "      <td>0</td>\n",
       "      <td>0</td>\n",
       "      <td>1</td>\n",
       "      <td>0</td>\n",
       "      <td>0</td>\n",
       "    </tr>\n",
       "    <tr>\n",
       "      <td>4</td>\n",
       "      <td>0</td>\n",
       "      <td>0</td>\n",
       "      <td>0</td>\n",
       "      <td>0</td>\n",
       "      <td>0</td>\n",
       "      <td>0</td>\n",
       "      <td>0</td>\n",
       "      <td>0</td>\n",
       "      <td>0</td>\n",
       "      <td>0</td>\n",
       "    </tr>\n",
       "  </tbody>\n",
       "</table>\n",
       "</div>"
      ],
      "text/plain": [
       "   Ad 1  Ad 2  Ad 3  Ad 4  Ad 5  Ad 6  Ad 7  Ad 8  Ad 9  Ad 10\n",
       "0     1     0     0     0     1     0     0     0     1      0\n",
       "1     0     0     0     0     0     0     0     0     1      0\n",
       "2     0     0     0     0     0     0     0     0     0      0\n",
       "3     0     1     0     0     0     0     0     1     0      0\n",
       "4     0     0     0     0     0     0     0     0     0      0"
      ]
     },
     "execution_count": 3,
     "metadata": {},
     "output_type": "execute_result"
    }
   ],
   "source": [
    "rewards.head()"
   ]
  },
  {
   "cell_type": "markdown",
   "metadata": {},
   "source": [
    "# Random Selection\n",
    "What would be the success rate if we selected a random ad for each user (at each round)?"
   ]
  },
  {
   "cell_type": "code",
   "execution_count": 9,
   "metadata": {},
   "outputs": [],
   "source": [
    "N = rewards.shape[0]\n",
    "d = rewards.shape[1]"
   ]
  },
  {
   "cell_type": "code",
   "execution_count": 31,
   "metadata": {},
   "outputs": [
    {
     "data": {
      "text/plain": [
       "array([[0, 0, 1, 0, 0, 0, 0, 0, 0, 0],\n",
       "       [0, 0, 0, 1, 0, 0, 0, 0, 0, 0],\n",
       "       [0, 0, 0, 0, 0, 0, 0, 1, 0, 0],\n",
       "       [0, 0, 1, 0, 0, 0, 0, 0, 0, 0],\n",
       "       [0, 0, 0, 0, 0, 0, 0, 1, 0, 0]])"
      ]
     },
     "execution_count": 31,
     "metadata": {},
     "output_type": "execute_result"
    }
   ],
   "source": [
    "random_selection = (np.random.choice(range(d), size=(N, 1)) == np.arange(d)).astype(int)\n",
    "random_selection[:5]"
   ]
  },
  {
   "cell_type": "code",
   "execution_count": 32,
   "metadata": {},
   "outputs": [],
   "source": [
    "is_selected = ((rewards.values==1) & (random_selection==1)).sum(axis=1)"
   ]
  },
  {
   "cell_type": "markdown",
   "metadata": {},
   "source": [
    "**Success rate**:"
   ]
  },
  {
   "cell_type": "code",
   "execution_count": 33,
   "metadata": {},
   "outputs": [
    {
     "data": {
      "text/plain": [
       "0.1255"
      ]
     },
     "execution_count": 33,
     "metadata": {},
     "output_type": "execute_result"
    }
   ],
   "source": [
    "is_selected.mean()"
   ]
  },
  {
   "cell_type": "markdown",
   "metadata": {},
   "source": [
    "For a more confident random selection benchmark, we can perform random selection for 10,000 times."
   ]
  },
  {
   "cell_type": "code",
   "execution_count": 233,
   "metadata": {},
   "outputs": [],
   "source": [
    "random_selection = (np.random.choice(range(d), size=(N, 1, 10000)) == np.tile(np.arange(d).reshape(-1, 1), (1,10000))).astype(int)"
   ]
  },
  {
   "cell_type": "code",
   "execution_count": 241,
   "metadata": {},
   "outputs": [
    {
     "data": {
      "text/plain": [
       "0.12384629999999999"
      ]
     },
     "execution_count": 241,
     "metadata": {},
     "output_type": "execute_result"
    }
   ],
   "source": [
    "((rewards.values==1).reshape(10000, 10, 1) & (random_selection==1)) \\\n",
    "    .sum(axis=1) \\\n",
    "    .mean(axis=0) \\\n",
    "    .mean()"
   ]
  },
  {
   "cell_type": "markdown",
   "metadata": {},
   "source": [
    "# Upper Confidence Bound\n",
    "\n",
    "- **Step 1**: At each round $n$, we consider two numbers for each ad $i$:\n",
    "    - $N_i(n)$ - the number of times the ad $i$ was selected up to round $n$,\n",
    "    - $R_i(n)$ - the sum of rewards of the ad $i$ up to round $n$.  "
   ]
  },
  {
   "cell_type": "code",
   "execution_count": 10,
   "metadata": {},
   "outputs": [],
   "source": [
    "def initiate_ad_data():\n",
    "    \"\"\"Initiate a global ad data dict.\"\"\"\n",
    "    global ad_data\n",
    "    ad_data = {ad:{'Ni':0, 'Ri':0, 'UCB':1e5} for ad in range(d)}"
   ]
  },
  {
   "cell_type": "markdown",
   "metadata": {},
   "source": [
    "- **Step 2**: From there two numbers we compute:\n",
    "    - the average reward of ad $i$ up to round $n$\n",
    "$$\\bar{r_i}(n) = \\frac{R_i(n)}{N_i(n)}$$\n",
    "    - the confidence interval $[\\bar{r_i}(n) - \\Delta_i(n), \\bar{r_i}(n) + \\Delta_i(n)]$ at round $n$ with\n",
    "$$\\Delta_i(n) = \\sqrt{\\frac{3}{2} \\frac{log(n)}{N_i(n)}}$$"
   ]
  },
  {
   "cell_type": "code",
   "execution_count": 11,
   "metadata": {},
   "outputs": [],
   "source": [
    "def check_reward(ad, actual):\n",
    "    \"\"\"Check reward against actual rewards table.\"\"\"\n",
    "    ad = ad == np.arange(d)\n",
    "    return ((ad == 1) & (actual == 1)).sum()\n",
    "\n",
    "def calculate_ucb(Ni, Ri, n):\n",
    "    \"\"\"Calculat UCB using Ni, Ri and n (round).\"\"\"\n",
    "    r_bar = Ri / Ni\n",
    "    delta_i = np.sqrt(3 / 2 * np.log(n + 1) / Ni) # round never starts from 0\n",
    "    return r_bar + delta_i"
   ]
  },
  {
   "cell_type": "markdown",
   "metadata": {},
   "source": [
    "- **Step 3**: We select the ad $i$ having the maximum **UCB** $\\bar{r_i}(n) + \\Delta_i(n)$."
   ]
  },
  {
   "cell_type": "code",
   "execution_count": 12,
   "metadata": {},
   "outputs": [],
   "source": [
    "def select_ad(ad_data):\n",
    "    \"\"\"Select the ad having maximum UCB.\"\"\"\n",
    "    return max(ad_data.items(), key=lambda x: x[1]['UCB'])[0]"
   ]
  },
  {
   "cell_type": "code",
   "execution_count": 13,
   "metadata": {},
   "outputs": [],
   "source": [
    "def update_ad(ad, reward, ad_data, round_number):\n",
    "    \"\"\"Update ad info. Selection count, total reward and UCB is updated.\"\"\"\n",
    "    ad_data[ad]['Ni'] += 1\n",
    "    ad_data[ad]['Ri'] += reward\n",
    "    ad_data[ad]['UCB'] = calculate_ucb(ad_data[ad]['Ni'],\n",
    "                                       ad_data[ad]['Ri'],\n",
    "                                       round_number)"
   ]
  },
  {
   "cell_type": "markdown",
   "metadata": {},
   "source": [
    "### Implementation for one round"
   ]
  },
  {
   "cell_type": "code",
   "execution_count": 14,
   "metadata": {},
   "outputs": [],
   "source": [
    "initiate_ad_data()"
   ]
  },
  {
   "cell_type": "code",
   "execution_count": 15,
   "metadata": {},
   "outputs": [
    {
     "name": "stdout",
     "output_type": "stream",
     "text": [
      "selected ad: 0\n",
      "current reward:  1\n"
     ]
    },
    {
     "data": {
      "text/plain": [
       "{0: {'Ni': 1, 'Ri': 1, 'UCB': 1.0},\n",
       " 1: {'Ni': 0, 'Ri': 0, 'UCB': 100000.0},\n",
       " 2: {'Ni': 0, 'Ri': 0, 'UCB': 100000.0},\n",
       " 3: {'Ni': 0, 'Ri': 0, 'UCB': 100000.0},\n",
       " 4: {'Ni': 0, 'Ri': 0, 'UCB': 100000.0},\n",
       " 5: {'Ni': 0, 'Ri': 0, 'UCB': 100000.0},\n",
       " 6: {'Ni': 0, 'Ri': 0, 'UCB': 100000.0},\n",
       " 7: {'Ni': 0, 'Ri': 0, 'UCB': 100000.0},\n",
       " 8: {'Ni': 0, 'Ri': 0, 'UCB': 100000.0},\n",
       " 9: {'Ni': 0, 'Ri': 0, 'UCB': 100000.0}}"
      ]
     },
     "execution_count": 15,
     "metadata": {},
     "output_type": "execute_result"
    }
   ],
   "source": [
    "round_ = 0\n",
    "selected = select_ad(ad_data)\n",
    "print('selected ad:', selected)\n",
    "current_reward = check_reward(selected, rewards.loc[round_])\n",
    "print('current reward: ', current_reward)\n",
    "update_ad(selected, current_reward, ad_data, round_)\n",
    "ad_data"
   ]
  },
  {
   "cell_type": "markdown",
   "metadata": {},
   "source": [
    "### Implementation for all rounds:"
   ]
  },
  {
   "cell_type": "code",
   "execution_count": 16,
   "metadata": {},
   "outputs": [
    {
     "name": "stdout",
     "output_type": "stream",
     "text": [
      "Wall time: 5.05 s\n"
     ]
    }
   ],
   "source": [
    "%%time\n",
    "initiate_ad_data()\n",
    "for round_ in range(N):\n",
    "    selected = select_ad(ad_data)\n",
    "    current_reward = check_reward(selected, rewards.loc[round_])\n",
    "    update_ad(selected, current_reward, ad_data, round_)"
   ]
  },
  {
   "cell_type": "code",
   "execution_count": 17,
   "metadata": {},
   "outputs": [
    {
     "data": {
      "text/html": [
       "<div>\n",
       "<style scoped>\n",
       "    .dataframe tbody tr th:only-of-type {\n",
       "        vertical-align: middle;\n",
       "    }\n",
       "\n",
       "    .dataframe tbody tr th {\n",
       "        vertical-align: top;\n",
       "    }\n",
       "\n",
       "    .dataframe thead th {\n",
       "        text-align: right;\n",
       "    }\n",
       "</style>\n",
       "<table border=\"1\" class=\"dataframe\">\n",
       "  <thead>\n",
       "    <tr style=\"text-align: right;\">\n",
       "      <th></th>\n",
       "      <th>Ni</th>\n",
       "      <th>Ri</th>\n",
       "      <th>UCB</th>\n",
       "    </tr>\n",
       "  </thead>\n",
       "  <tbody>\n",
       "    <tr>\n",
       "      <td>0</td>\n",
       "      <td>1011.0</td>\n",
       "      <td>200.0</td>\n",
       "      <td>0.314674</td>\n",
       "    </tr>\n",
       "    <tr>\n",
       "      <td>1</td>\n",
       "      <td>371.0</td>\n",
       "      <td>45.0</td>\n",
       "      <td>0.314229</td>\n",
       "    </tr>\n",
       "    <tr>\n",
       "      <td>2</td>\n",
       "      <td>220.0</td>\n",
       "      <td>14.0</td>\n",
       "      <td>0.314189</td>\n",
       "    </tr>\n",
       "    <tr>\n",
       "      <td>3</td>\n",
       "      <td>473.0</td>\n",
       "      <td>68.0</td>\n",
       "      <td>0.314590</td>\n",
       "    </tr>\n",
       "    <tr>\n",
       "      <td>4</td>\n",
       "      <td>5954.0</td>\n",
       "      <td>1591.0</td>\n",
       "      <td>0.315386</td>\n",
       "    </tr>\n",
       "    <tr>\n",
       "      <td>5</td>\n",
       "      <td>146.0</td>\n",
       "      <td>1.0</td>\n",
       "      <td>0.314323</td>\n",
       "    </tr>\n",
       "    <tr>\n",
       "      <td>6</td>\n",
       "      <td>338.0</td>\n",
       "      <td>38.0</td>\n",
       "      <td>0.314512</td>\n",
       "    </tr>\n",
       "    <tr>\n",
       "      <td>7</td>\n",
       "      <td>1050.0</td>\n",
       "      <td>210.0</td>\n",
       "      <td>0.314661</td>\n",
       "    </tr>\n",
       "    <tr>\n",
       "      <td>8</td>\n",
       "      <td>261.0</td>\n",
       "      <td>22.0</td>\n",
       "      <td>0.314307</td>\n",
       "    </tr>\n",
       "    <tr>\n",
       "      <td>9</td>\n",
       "      <td>176.0</td>\n",
       "      <td>6.0</td>\n",
       "      <td>0.314167</td>\n",
       "    </tr>\n",
       "  </tbody>\n",
       "</table>\n",
       "</div>"
      ],
      "text/plain": [
       "       Ni      Ri       UCB\n",
       "0  1011.0   200.0  0.314674\n",
       "1   371.0    45.0  0.314229\n",
       "2   220.0    14.0  0.314189\n",
       "3   473.0    68.0  0.314590\n",
       "4  5954.0  1591.0  0.315386\n",
       "5   146.0     1.0  0.314323\n",
       "6   338.0    38.0  0.314512\n",
       "7  1050.0   210.0  0.314661\n",
       "8   261.0    22.0  0.314307\n",
       "9   176.0     6.0  0.314167"
      ]
     },
     "execution_count": 17,
     "metadata": {},
     "output_type": "execute_result"
    }
   ],
   "source": [
    "ad_frame = pd.DataFrame(ad_data).T\n",
    "ad_frame"
   ]
  },
  {
   "cell_type": "code",
   "execution_count": 18,
   "metadata": {},
   "outputs": [
    {
     "data": {
      "text/plain": [
       "Ni    10000.0\n",
       "Ri     2195.0\n",
       "dtype: float64"
      ]
     },
     "execution_count": 18,
     "metadata": {},
     "output_type": "execute_result"
    }
   ],
   "source": [
    "ad_frame[['Ni', 'Ri']].sum()"
   ]
  },
  {
   "cell_type": "code",
   "execution_count": 19,
   "metadata": {},
   "outputs": [
    {
     "data": {
      "text/plain": [
       "<matplotlib.axes._subplots.AxesSubplot at 0x20af8fe8b88>"
      ]
     },
     "execution_count": 19,
     "metadata": {},
     "output_type": "execute_result"
    },
    {
     "data": {
      "image/png": "[encoded data removed]",
      "text/plain": [
       "<Figure size 864x288 with 2 Axes>"
      ]
     },
     "metadata": {
      "needs_background": "light"
     },
     "output_type": "display_data"
    }
   ],
   "source": [
    "fig, ax = plt.subplots(1,2, figsize=(12, 4))\n",
    "ad_frame.plot(kind='bar', y=['Ni', 'Ri'], ax=ax[0])\n",
    "rewards.rename({k:v for k,v in zip(rewards.columns, range(d))}, axis=1).sum().plot(kind='bar', ax=ax[1])"
   ]
  },
  {
   "cell_type": "markdown",
   "metadata": {},
   "source": [
    "## Takeaways:\n",
    "- Clickthrough rate has been **increased by 100%**."
   ]
  },
  {
   "cell_type": "code",
   "execution_count": null,
   "metadata": {},
   "outputs": [],
   "source": []
  }
 ],
 "metadata": {
  "kernelspec": {
   "display_name": "Python 3",
   "language": "python",
   "name": "python3"
  },
  "language_info": {
   "codemirror_mode": {
    "name": "ipython",
    "version": 3
   },
   "file_extension": ".py",
   "mimetype": "text/x-python",
   "name": "python",
   "nbconvert_exporter": "python",
   "pygments_lexer": "ipython3",
   "version": "3.7.4"
  }
 },
 "nbformat": 4,
 "nbformat_minor": 2
}
