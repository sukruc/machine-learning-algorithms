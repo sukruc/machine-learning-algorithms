{
 "cells": [
  {
   "cell_type": "code",
   "execution_count": 1,
   "metadata": {},
   "outputs": [],
   "source": [
    "import sys\n",
    "import pandas as pd\n",
    "import matplotlib.pyplot as plt\n",
    "\n",
    "import numpy as np\n",
    "import seaborn as sns\n",
    "\n",
    "from agents import RassalAjan, UCBAjan, Ortam, ThompsonAjan, SentetikOrtam\n",
    "\n",
    "from ipywidgets import interact"
   ]
  },
  {
   "cell_type": "markdown",
   "metadata": {},
   "source": [
    "# Upper Confidence Bound Agent"
   ]
  },
  {
   "cell_type": "code",
   "execution_count": 2,
   "metadata": {},
   "outputs": [
    {
     "data": {
      "application/vnd.jupyter.widget-view+json": {
       "model_id": "67ac20df84054ba5b7694cacf665a200",
       "version_major": 2,
       "version_minor": 0
      },
      "text/plain": [
       "interactive(children=(IntSlider(value=95, description='tur_sayisi', max=9000, min=1), Output()), _dom_classes=…"
      ]
     },
     "metadata": {},
     "output_type": "display_data"
    }
   ],
   "source": [
    "@interact(tur_sayisi=(1,9000,1))\n",
    "def ucb(tur_sayisi=95):\n",
    "    ortam = Ortam('Ads_CTR_Optimisation.csv')\n",
    "#     ortam = SentetikOrtam([0.4, 0.2, 0.3, 0.05])\n",
    "    ucb = UCBAjan(ortam.n_ads)\n",
    "    \n",
    "    for _ in range(tur_sayisi):\n",
    "        ucb.ogren(ortam)\n",
    "#     print(\"Toplam odul:\", ucb.toplam_odul())\n",
    "    df = pd.DataFrame(ucb.tablo).T.assign(u=lambda df: df['UCB'] - df['ri'])\n",
    "    df.plot(kind='bar', y=['ri', 'u'], stacked=True, figsize=(12,8))\n",
    "    plt.axhline((df['ri'] + df['u']).max(), label='max ucb', color='red')\n",
    "    plt.legend()\n",
    "    plt.ylim(0, 1)\n",
    "#     plt.xlim(-1, 11)\n",
    "    "
   ]
  },
  {
   "cell_type": "markdown",
   "metadata": {},
   "source": [
    "# Thompson Sampler Agent"
   ]
  },
  {
   "cell_type": "code",
   "execution_count": 4,
   "metadata": {},
   "outputs": [
    {
     "data": {
      "application/vnd.jupyter.widget-view+json": {
       "model_id": "98ed9ae422c44caaa5a2c8630d8666ae",
       "version_major": 2,
       "version_minor": 0
      },
      "text/plain": [
       "interactive(children=(IntSlider(value=10, description='tur_sayisi', max=100000, min=1, step=5), Output()), _do…"
      ]
     },
     "metadata": {},
     "output_type": "display_data"
    }
   ],
   "source": [
    "# ortam = Ortam('Ads_CTR_Optimisation.csv')\n",
    "ortam = SentetikOrtam([0.1, 0.3, 0.4])\n",
    "# ortam.data = ortam.data.iloc[:, :4]\n",
    "# ortam.n_ads = 4\n",
    "N = 0\n",
    "thomp = ThompsonAjan(ortam.n_ads)\n",
    "@interact(tur_sayisi=(1,100000,5))\n",
    "def thompson(tur_sayisi=10):\n",
    "    global N, thomp\n",
    "#     ortam.yenile()\n",
    "    \n",
    "    for _ in range(tur_sayisi):\n",
    "        if _ < N:\n",
    "            continue\n",
    "        N += 1\n",
    "        thomp.ogren(ortam)\n",
    "    dists = thomp.tablo_goruntule().T.apply(lambda x: np.random.beta(x['Ni1'] + 1, x['Ni0'] + 1, size=50000), axis=1)\n",
    "#     print(_)\n",
    "#     print(N)\n",
    "    plt.figure(figsize=(16, 4))\n",
    "    for d in dists.index:\n",
    "        sns.kdeplot(dists[d], label=f'Ad {d}')\n",
    "    plt.legend()\n",
    "    plt.ylim(0, 18)\n",
    "    plt.xlim(-0.2, 0.9)"
   ]
  },
  {
   "cell_type": "code",
   "execution_count": null,
   "metadata": {},
   "outputs": [],
   "source": []
  }
 ],
 "metadata": {
  "kernelspec": {
   "display_name": "Python 3.7.4 Base",
   "language": "python",
   "name": "python3"
  },
  "language_info": {
   "codemirror_mode": {
    "name": "ipython",
    "version": 3
   },
   "file_extension": ".py",
   "mimetype": "text/x-python",
   "name": "python",
   "nbconvert_exporter": "python",
   "pygments_lexer": "ipython3",
   "version": "3.7.4"
  }
 },
 "nbformat": 4,
 "nbformat_minor": 2
}
